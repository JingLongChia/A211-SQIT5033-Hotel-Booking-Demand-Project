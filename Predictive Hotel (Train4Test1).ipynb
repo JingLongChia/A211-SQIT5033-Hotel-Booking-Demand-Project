{
 "cells": [
  {
   "cell_type": "code",
   "execution_count": 1,
   "id": "0e4a6d45-db8c-4395-8a09-24d6d5d36aeb",
   "metadata": {},
   "outputs": [],
   "source": [
    "import pandas as pd\n",
    "import numpy as np\n",
    "import matplotlib.pyplot as plt\n",
    "import seaborn as sns\n",
    "from sklearn.metrics import f1_score, accuracy_score, recall_score, confusion_matrix,classification_report, precision_score, roc_auc_score\n",
    "from sklearn.model_selection import train_test_split, GridSearchCV, RandomizedSearchCV\n",
    "from sklearn.tree import DecisionTreeClassifier\n",
    "from sklearn.pipeline import Pipeline\n",
    "from sklearn.preprocessing import OneHotEncoder, LabelEncoder, MinMaxScaler, StandardScaler, RobustScaler\n",
    "from sklearn.compose import ColumnTransformer\n",
    "from sklearn.linear_model import LogisticRegression\n",
    "import joblib\n",
    "\n",
    "import warnings\n",
    "warnings.filterwarnings('ignore')\n",
    "\n",
    "pd.set_option('display.max_columns', None)"
   ]
  },
  {
   "cell_type": "markdown",
   "id": "d4877274-9f41-4c3d-85d6-7e50dc5113c8",
   "metadata": {},
   "source": [
    "# LOADING THE DATASET"
   ]
  },
  {
   "cell_type": "code",
   "execution_count": 2,
   "id": "71331915-d025-4a10-b99b-081dfee48651",
   "metadata": {},
   "outputs": [
    {
     "data": {
      "text/html": [
       "<div>\n",
       "<style scoped>\n",
       "    .dataframe tbody tr th:only-of-type {\n",
       "        vertical-align: middle;\n",
       "    }\n",
       "\n",
       "    .dataframe tbody tr th {\n",
       "        vertical-align: top;\n",
       "    }\n",
       "\n",
       "    .dataframe thead th {\n",
       "        text-align: right;\n",
       "    }\n",
       "</style>\n",
       "<table border=\"1\" class=\"dataframe\">\n",
       "  <thead>\n",
       "    <tr style=\"text-align: right;\">\n",
       "      <th></th>\n",
       "      <th>hotel</th>\n",
       "      <th>is_canceled</th>\n",
       "      <th>lead_time</th>\n",
       "      <th>arrival_date_year</th>\n",
       "      <th>arrival_date_month</th>\n",
       "      <th>arrival_date_week_number</th>\n",
       "      <th>arrival_date_day_of_month</th>\n",
       "      <th>stays_in_weekend_nights</th>\n",
       "      <th>stays_in_week_nights</th>\n",
       "      <th>adults</th>\n",
       "      <th>children</th>\n",
       "      <th>babies</th>\n",
       "      <th>meal</th>\n",
       "      <th>country</th>\n",
       "      <th>market_segment</th>\n",
       "      <th>distribution_channel</th>\n",
       "      <th>is_repeated_guest</th>\n",
       "      <th>previous_cancellations</th>\n",
       "      <th>previous_bookings_not_canceled</th>\n",
       "      <th>reserved_room_type</th>\n",
       "      <th>assigned_room_type</th>\n",
       "      <th>booking_changes</th>\n",
       "      <th>deposit_type</th>\n",
       "      <th>agent</th>\n",
       "      <th>company</th>\n",
       "      <th>days_in_waiting_list</th>\n",
       "      <th>customer_type</th>\n",
       "      <th>adr</th>\n",
       "      <th>required_car_parking_spaces</th>\n",
       "      <th>total_of_special_requests</th>\n",
       "      <th>reservation_status</th>\n",
       "      <th>reservation_status_date</th>\n",
       "    </tr>\n",
       "  </thead>\n",
       "  <tbody>\n",
       "    <tr>\n",
       "      <th>0</th>\n",
       "      <td>Resort Hotel</td>\n",
       "      <td>0</td>\n",
       "      <td>342</td>\n",
       "      <td>2015</td>\n",
       "      <td>July</td>\n",
       "      <td>27</td>\n",
       "      <td>1</td>\n",
       "      <td>0</td>\n",
       "      <td>0</td>\n",
       "      <td>2</td>\n",
       "      <td>0.0</td>\n",
       "      <td>0</td>\n",
       "      <td>BB</td>\n",
       "      <td>PRT</td>\n",
       "      <td>Direct</td>\n",
       "      <td>Direct</td>\n",
       "      <td>0</td>\n",
       "      <td>0</td>\n",
       "      <td>0</td>\n",
       "      <td>C</td>\n",
       "      <td>C</td>\n",
       "      <td>3</td>\n",
       "      <td>No Deposit</td>\n",
       "      <td>NaN</td>\n",
       "      <td>NaN</td>\n",
       "      <td>0</td>\n",
       "      <td>Transient</td>\n",
       "      <td>0.0</td>\n",
       "      <td>0</td>\n",
       "      <td>0</td>\n",
       "      <td>Check-Out</td>\n",
       "      <td>2015-07-01</td>\n",
       "    </tr>\n",
       "    <tr>\n",
       "      <th>1</th>\n",
       "      <td>Resort Hotel</td>\n",
       "      <td>0</td>\n",
       "      <td>737</td>\n",
       "      <td>2015</td>\n",
       "      <td>July</td>\n",
       "      <td>27</td>\n",
       "      <td>1</td>\n",
       "      <td>0</td>\n",
       "      <td>0</td>\n",
       "      <td>2</td>\n",
       "      <td>0.0</td>\n",
       "      <td>0</td>\n",
       "      <td>BB</td>\n",
       "      <td>PRT</td>\n",
       "      <td>Direct</td>\n",
       "      <td>Direct</td>\n",
       "      <td>0</td>\n",
       "      <td>0</td>\n",
       "      <td>0</td>\n",
       "      <td>C</td>\n",
       "      <td>C</td>\n",
       "      <td>4</td>\n",
       "      <td>No Deposit</td>\n",
       "      <td>NaN</td>\n",
       "      <td>NaN</td>\n",
       "      <td>0</td>\n",
       "      <td>Transient</td>\n",
       "      <td>0.0</td>\n",
       "      <td>0</td>\n",
       "      <td>0</td>\n",
       "      <td>Check-Out</td>\n",
       "      <td>2015-07-01</td>\n",
       "    </tr>\n",
       "    <tr>\n",
       "      <th>2</th>\n",
       "      <td>Resort Hotel</td>\n",
       "      <td>0</td>\n",
       "      <td>7</td>\n",
       "      <td>2015</td>\n",
       "      <td>July</td>\n",
       "      <td>27</td>\n",
       "      <td>1</td>\n",
       "      <td>0</td>\n",
       "      <td>1</td>\n",
       "      <td>1</td>\n",
       "      <td>0.0</td>\n",
       "      <td>0</td>\n",
       "      <td>BB</td>\n",
       "      <td>GBR</td>\n",
       "      <td>Direct</td>\n",
       "      <td>Direct</td>\n",
       "      <td>0</td>\n",
       "      <td>0</td>\n",
       "      <td>0</td>\n",
       "      <td>A</td>\n",
       "      <td>C</td>\n",
       "      <td>0</td>\n",
       "      <td>No Deposit</td>\n",
       "      <td>NaN</td>\n",
       "      <td>NaN</td>\n",
       "      <td>0</td>\n",
       "      <td>Transient</td>\n",
       "      <td>75.0</td>\n",
       "      <td>0</td>\n",
       "      <td>0</td>\n",
       "      <td>Check-Out</td>\n",
       "      <td>2015-07-02</td>\n",
       "    </tr>\n",
       "    <tr>\n",
       "      <th>3</th>\n",
       "      <td>Resort Hotel</td>\n",
       "      <td>0</td>\n",
       "      <td>13</td>\n",
       "      <td>2015</td>\n",
       "      <td>July</td>\n",
       "      <td>27</td>\n",
       "      <td>1</td>\n",
       "      <td>0</td>\n",
       "      <td>1</td>\n",
       "      <td>1</td>\n",
       "      <td>0.0</td>\n",
       "      <td>0</td>\n",
       "      <td>BB</td>\n",
       "      <td>GBR</td>\n",
       "      <td>Corporate</td>\n",
       "      <td>Corporate</td>\n",
       "      <td>0</td>\n",
       "      <td>0</td>\n",
       "      <td>0</td>\n",
       "      <td>A</td>\n",
       "      <td>A</td>\n",
       "      <td>0</td>\n",
       "      <td>No Deposit</td>\n",
       "      <td>304.0</td>\n",
       "      <td>NaN</td>\n",
       "      <td>0</td>\n",
       "      <td>Transient</td>\n",
       "      <td>75.0</td>\n",
       "      <td>0</td>\n",
       "      <td>0</td>\n",
       "      <td>Check-Out</td>\n",
       "      <td>2015-07-02</td>\n",
       "    </tr>\n",
       "    <tr>\n",
       "      <th>4</th>\n",
       "      <td>Resort Hotel</td>\n",
       "      <td>0</td>\n",
       "      <td>14</td>\n",
       "      <td>2015</td>\n",
       "      <td>July</td>\n",
       "      <td>27</td>\n",
       "      <td>1</td>\n",
       "      <td>0</td>\n",
       "      <td>2</td>\n",
       "      <td>2</td>\n",
       "      <td>0.0</td>\n",
       "      <td>0</td>\n",
       "      <td>BB</td>\n",
       "      <td>GBR</td>\n",
       "      <td>Online TA</td>\n",
       "      <td>TA/TO</td>\n",
       "      <td>0</td>\n",
       "      <td>0</td>\n",
       "      <td>0</td>\n",
       "      <td>A</td>\n",
       "      <td>A</td>\n",
       "      <td>0</td>\n",
       "      <td>No Deposit</td>\n",
       "      <td>240.0</td>\n",
       "      <td>NaN</td>\n",
       "      <td>0</td>\n",
       "      <td>Transient</td>\n",
       "      <td>98.0</td>\n",
       "      <td>0</td>\n",
       "      <td>1</td>\n",
       "      <td>Check-Out</td>\n",
       "      <td>2015-07-03</td>\n",
       "    </tr>\n",
       "  </tbody>\n",
       "</table>\n",
       "</div>"
      ],
      "text/plain": [
       "          hotel  is_canceled  lead_time  arrival_date_year arrival_date_month  \\\n",
       "0  Resort Hotel            0        342               2015               July   \n",
       "1  Resort Hotel            0        737               2015               July   \n",
       "2  Resort Hotel            0          7               2015               July   \n",
       "3  Resort Hotel            0         13               2015               July   \n",
       "4  Resort Hotel            0         14               2015               July   \n",
       "\n",
       "   arrival_date_week_number  arrival_date_day_of_month  \\\n",
       "0                        27                          1   \n",
       "1                        27                          1   \n",
       "2                        27                          1   \n",
       "3                        27                          1   \n",
       "4                        27                          1   \n",
       "\n",
       "   stays_in_weekend_nights  stays_in_week_nights  adults  children  babies  \\\n",
       "0                        0                     0       2       0.0       0   \n",
       "1                        0                     0       2       0.0       0   \n",
       "2                        0                     1       1       0.0       0   \n",
       "3                        0                     1       1       0.0       0   \n",
       "4                        0                     2       2       0.0       0   \n",
       "\n",
       "  meal country market_segment distribution_channel  is_repeated_guest  \\\n",
       "0   BB     PRT         Direct               Direct                  0   \n",
       "1   BB     PRT         Direct               Direct                  0   \n",
       "2   BB     GBR         Direct               Direct                  0   \n",
       "3   BB     GBR      Corporate            Corporate                  0   \n",
       "4   BB     GBR      Online TA                TA/TO                  0   \n",
       "\n",
       "   previous_cancellations  previous_bookings_not_canceled reserved_room_type  \\\n",
       "0                       0                               0                  C   \n",
       "1                       0                               0                  C   \n",
       "2                       0                               0                  A   \n",
       "3                       0                               0                  A   \n",
       "4                       0                               0                  A   \n",
       "\n",
       "  assigned_room_type  booking_changes deposit_type  agent  company  \\\n",
       "0                  C                3   No Deposit    NaN      NaN   \n",
       "1                  C                4   No Deposit    NaN      NaN   \n",
       "2                  C                0   No Deposit    NaN      NaN   \n",
       "3                  A                0   No Deposit  304.0      NaN   \n",
       "4                  A                0   No Deposit  240.0      NaN   \n",
       "\n",
       "   days_in_waiting_list customer_type   adr  required_car_parking_spaces  \\\n",
       "0                     0     Transient   0.0                            0   \n",
       "1                     0     Transient   0.0                            0   \n",
       "2                     0     Transient  75.0                            0   \n",
       "3                     0     Transient  75.0                            0   \n",
       "4                     0     Transient  98.0                            0   \n",
       "\n",
       "   total_of_special_requests reservation_status reservation_status_date  \n",
       "0                          0          Check-Out              2015-07-01  \n",
       "1                          0          Check-Out              2015-07-01  \n",
       "2                          0          Check-Out              2015-07-02  \n",
       "3                          0          Check-Out              2015-07-02  \n",
       "4                          1          Check-Out              2015-07-03  "
      ]
     },
     "execution_count": 2,
     "metadata": {},
     "output_type": "execute_result"
    }
   ],
   "source": [
    "## Importing Data\n",
    "df = pd.read_csv('hotel_bookings.csv')\n",
    "\n",
    "df.head()"
   ]
  },
  {
   "cell_type": "markdown",
   "id": "acbf39a6-066d-4cf7-9297-9a90f4fe9108",
   "metadata": {},
   "source": [
    "# DATA CLEANING AND PREPROCESSING"
   ]
  },
  {
   "cell_type": "markdown",
   "id": "edb54762-eb81-4123-90c3-030079592ecb",
   "metadata": {},
   "source": [
    "## Dealing with Missing Values"
   ]
  },
  {
   "cell_type": "code",
   "execution_count": 3,
   "id": "e74d69f0-05ff-4a40-8496-b5cd6d71d86c",
   "metadata": {},
   "outputs": [
    {
     "data": {
      "text/plain": [
       "company                   112593\n",
       "agent                      16340\n",
       "country                      488\n",
       "children                       4\n",
       "reserved_room_type             0\n",
       "assigned_room_type             0\n",
       "booking_changes                0\n",
       "deposit_type                   0\n",
       "hotel                          0\n",
       "previous_cancellations         0\n",
       "dtype: int64"
      ]
     },
     "execution_count": 3,
     "metadata": {},
     "output_type": "execute_result"
    }
   ],
   "source": [
    "## Find the missing value, show the total null values for each column and sort it in descending order\n",
    "df = df.copy()\n",
    "df.isnull().sum().sort_values(ascending=False)[:10]"
   ]
  },
  {
   "cell_type": "code",
   "execution_count": 4,
   "id": "221479ec-9ebd-4c2a-a98c-a3dbef7ab79c",
   "metadata": {},
   "outputs": [],
   "source": [
    "## If no id of agent or company is null, just replace it with 0\n",
    "df[['agent','company']] = df[['agent','company']].fillna(0.0)"
   ]
  },
  {
   "cell_type": "code",
   "execution_count": 5,
   "id": "a8a5392b-ff4f-46a3-916e-9ec03cda52bd",
   "metadata": {},
   "outputs": [],
   "source": [
    "## For the missing values in the country column, replace it with mode (value that appears most often)\n",
    "df['country'].fillna(df.country.mode().to_string(), inplace=True)\n",
    "\n",
    "\n",
    "## for missing children value, replace it with rounded mean value\n",
    "df['children'].fillna(round(df.children.mean()), inplace=True)"
   ]
  },
  {
   "cell_type": "code",
   "execution_count": 6,
   "id": "69f8d677-5369-4bef-babe-1fab9b6a734d",
   "metadata": {},
   "outputs": [],
   "source": [
    "## Drop Rows where there is no adult, baby and child\n",
    "df = df.drop(df[(df.adults+df.babies+df.children)==0].index)"
   ]
  },
  {
   "cell_type": "code",
   "execution_count": 7,
   "id": "b50a6430-3743-4b0d-be3d-fa3f5f808104",
   "metadata": {},
   "outputs": [
    {
     "data": {
      "text/plain": [
       "hotel                             0\n",
       "is_canceled                       0\n",
       "lead_time                         0\n",
       "arrival_date_year                 0\n",
       "arrival_date_month                0\n",
       "arrival_date_week_number          0\n",
       "arrival_date_day_of_month         0\n",
       "stays_in_weekend_nights           0\n",
       "stays_in_week_nights              0\n",
       "adults                            0\n",
       "children                          0\n",
       "babies                            0\n",
       "meal                              0\n",
       "country                           0\n",
       "market_segment                    0\n",
       "distribution_channel              0\n",
       "is_repeated_guest                 0\n",
       "previous_cancellations            0\n",
       "previous_bookings_not_canceled    0\n",
       "reserved_room_type                0\n",
       "assigned_room_type                0\n",
       "booking_changes                   0\n",
       "deposit_type                      0\n",
       "agent                             0\n",
       "company                           0\n",
       "days_in_waiting_list              0\n",
       "customer_type                     0\n",
       "adr                               0\n",
       "required_car_parking_spaces       0\n",
       "total_of_special_requests         0\n",
       "reservation_status                0\n",
       "reservation_status_date           0\n",
       "dtype: int64"
      ]
     },
     "execution_count": 7,
     "metadata": {},
     "output_type": "execute_result"
    }
   ],
   "source": [
    "df.isnull().sum()"
   ]
  },
  {
   "cell_type": "markdown",
   "id": "042e8c51-791f-4a0f-b8ce-ebac62ba614e",
   "metadata": {},
   "source": [
    "## Converting Datatype"
   ]
  },
  {
   "cell_type": "code",
   "execution_count": 8,
   "id": "47cee68d-3073-4c17-b6d7-91740fd7d382",
   "metadata": {},
   "outputs": [
    {
     "data": {
      "text/plain": [
       "hotel                              object\n",
       "is_canceled                         int64\n",
       "lead_time                           int64\n",
       "arrival_date_year                   int64\n",
       "arrival_date_month                 object\n",
       "arrival_date_week_number            int64\n",
       "arrival_date_day_of_month           int64\n",
       "stays_in_weekend_nights             int64\n",
       "stays_in_week_nights                int64\n",
       "adults                              int64\n",
       "children                          float64\n",
       "babies                              int64\n",
       "meal                               object\n",
       "country                            object\n",
       "market_segment                     object\n",
       "distribution_channel               object\n",
       "is_repeated_guest                   int64\n",
       "previous_cancellations              int64\n",
       "previous_bookings_not_canceled      int64\n",
       "reserved_room_type                 object\n",
       "assigned_room_type                 object\n",
       "booking_changes                     int64\n",
       "deposit_type                       object\n",
       "agent                             float64\n",
       "company                           float64\n",
       "days_in_waiting_list                int64\n",
       "customer_type                      object\n",
       "adr                               float64\n",
       "required_car_parking_spaces         int64\n",
       "total_of_special_requests           int64\n",
       "reservation_status                 object\n",
       "reservation_status_date            object\n",
       "dtype: object"
      ]
     },
     "execution_count": 8,
     "metadata": {},
     "output_type": "execute_result"
    }
   ],
   "source": [
    "df.dtypes"
   ]
  },
  {
   "cell_type": "code",
   "execution_count": 9,
   "id": "adcc6995-66f1-46c5-9ebf-60f49dafb845",
   "metadata": {},
   "outputs": [],
   "source": [
    "## convert datatype of these columns from float to integer\n",
    "df[['children', 'company', 'agent']] = df[['children', 'company', 'agent']].astype('int64')"
   ]
  },
  {
   "cell_type": "markdown",
   "id": "a0194469-c6a3-4995-ab1f-73fa29dbbff6",
   "metadata": {},
   "source": [
    "# Feature Selection"
   ]
  },
  {
   "cell_type": "code",
   "execution_count": 10,
   "id": "d292f265-1882-4051-aa8f-6a7847250194",
   "metadata": {},
   "outputs": [],
   "source": [
    "## Copy the dataframe\n",
    "df_subset = df.copy()"
   ]
  },
  {
   "cell_type": "code",
   "execution_count": 11,
   "id": "f204d474-01de-44cd-be6b-deed1ce289f0",
   "metadata": {},
   "outputs": [],
   "source": [
    "## Make the new column which contain 1 if guest received the same room which was reserved otherwise 0\n",
    "df_subset['Room'] = 0\n",
    "df_subset.loc[ df_subset['reserved_room_type'] == df_subset['assigned_room_type'] , 'Room'] = 1\n",
    "\n",
    "\n",
    "## Make the new column which contain 1 if the guest has cancelled more booking in the past\n",
    "## than the number of booking he did not cancel, otherwise 0\n",
    "\n",
    "df_subset['net_cancelled'] = 0\n",
    "df_subset.loc[ df_subset['previous_cancellations'] > df_subset['previous_bookings_not_canceled'] , 'net_cancelled'] = 1"
   ]
  },
  {
   "cell_type": "code",
   "execution_count": 12,
   "id": "7ce70ad6-43c1-4148-a483-7dcd632f5233",
   "metadata": {},
   "outputs": [],
   "source": [
    "## Remove the less important features\n",
    "df_subset = df_subset.drop(['arrival_date_year','arrival_date_week_number','arrival_date_day_of_month',\n",
    "                            'arrival_date_month','assigned_room_type','reserved_room_type','reservation_status_date',\n",
    "                            'previous_cancellations','previous_bookings_not_canceled'],axis=1)"
   ]
  },
  {
   "cell_type": "code",
   "execution_count": 13,
   "id": "69f93819-d01e-4778-87b8-7c3d93bdcf2a",
   "metadata": {},
   "outputs": [],
   "source": [
    "## Remove reservation_status column\n",
    "## because it tells us if booking was cancelled \n",
    "df_subset = df_subset.drop(['reservation_status'], axis=1)"
   ]
  },
  {
   "cell_type": "code",
   "execution_count": 14,
   "id": "5b24eb9c-062a-4f6f-9d40-dc3457821823",
   "metadata": {},
   "outputs": [],
   "source": [
    "## Plot the heatmap to see correlation with columns\n",
    "import dython\n",
    "from dython.nominal import associations"
   ]
  },
  {
   "cell_type": "code",
   "execution_count": 15,
   "id": "ab7796bb",
   "metadata": {},
   "outputs": [
    {
     "data": {
      "image/png": "[encoded data removed]",
      "text/plain": [
       "<Figure size 2880x1440 with 2 Axes>"
      ]
     },
     "metadata": {
      "needs_background": "light"
     },
     "output_type": "display_data"
    }
   ],
   "source": [
    "associations(df_subset, figsize = (40, 20))\n",
    "plt.show()"
   ]
  },
  {
   "cell_type": "code",
   "execution_count": 16,
   "id": "25812dca-7471-4954-a99a-d458a6c9832b",
   "metadata": {
    "scrolled": true
   },
   "outputs": [
    {
     "data": {
      "text/html": [
       "<div>\n",
       "<style scoped>\n",
       "    .dataframe tbody tr th:only-of-type {\n",
       "        vertical-align: middle;\n",
       "    }\n",
       "\n",
       "    .dataframe tbody tr th {\n",
       "        vertical-align: top;\n",
       "    }\n",
       "\n",
       "    .dataframe thead th {\n",
       "        text-align: right;\n",
       "    }\n",
       "</style>\n",
       "<table border=\"1\" class=\"dataframe\">\n",
       "  <thead>\n",
       "    <tr style=\"text-align: right;\">\n",
       "      <th></th>\n",
       "      <th>hotel</th>\n",
       "      <th>is_canceled</th>\n",
       "      <th>lead_time</th>\n",
       "      <th>stays_in_weekend_nights</th>\n",
       "      <th>stays_in_week_nights</th>\n",
       "      <th>adults</th>\n",
       "      <th>children</th>\n",
       "      <th>babies</th>\n",
       "      <th>meal</th>\n",
       "      <th>country</th>\n",
       "      <th>market_segment</th>\n",
       "      <th>distribution_channel</th>\n",
       "      <th>is_repeated_guest</th>\n",
       "      <th>booking_changes</th>\n",
       "      <th>deposit_type</th>\n",
       "      <th>agent</th>\n",
       "      <th>company</th>\n",
       "      <th>days_in_waiting_list</th>\n",
       "      <th>customer_type</th>\n",
       "      <th>adr</th>\n",
       "      <th>required_car_parking_spaces</th>\n",
       "      <th>total_of_special_requests</th>\n",
       "      <th>Room</th>\n",
       "      <th>net_cancelled</th>\n",
       "    </tr>\n",
       "  </thead>\n",
       "  <tbody>\n",
       "    <tr>\n",
       "      <th>0</th>\n",
       "      <td>Resort Hotel</td>\n",
       "      <td>0</td>\n",
       "      <td>342</td>\n",
       "      <td>0</td>\n",
       "      <td>0</td>\n",
       "      <td>2</td>\n",
       "      <td>0</td>\n",
       "      <td>0</td>\n",
       "      <td>BB</td>\n",
       "      <td>PRT</td>\n",
       "      <td>Direct</td>\n",
       "      <td>Direct</td>\n",
       "      <td>0</td>\n",
       "      <td>3</td>\n",
       "      <td>No Deposit</td>\n",
       "      <td>0</td>\n",
       "      <td>0</td>\n",
       "      <td>0</td>\n",
       "      <td>Transient</td>\n",
       "      <td>0.0</td>\n",
       "      <td>0</td>\n",
       "      <td>0</td>\n",
       "      <td>1</td>\n",
       "      <td>0</td>\n",
       "    </tr>\n",
       "    <tr>\n",
       "      <th>1</th>\n",
       "      <td>Resort Hotel</td>\n",
       "      <td>0</td>\n",
       "      <td>737</td>\n",
       "      <td>0</td>\n",
       "      <td>0</td>\n",
       "      <td>2</td>\n",
       "      <td>0</td>\n",
       "      <td>0</td>\n",
       "      <td>BB</td>\n",
       "      <td>PRT</td>\n",
       "      <td>Direct</td>\n",
       "      <td>Direct</td>\n",
       "      <td>0</td>\n",
       "      <td>4</td>\n",
       "      <td>No Deposit</td>\n",
       "      <td>0</td>\n",
       "      <td>0</td>\n",
       "      <td>0</td>\n",
       "      <td>Transient</td>\n",
       "      <td>0.0</td>\n",
       "      <td>0</td>\n",
       "      <td>0</td>\n",
       "      <td>1</td>\n",
       "      <td>0</td>\n",
       "    </tr>\n",
       "    <tr>\n",
       "      <th>2</th>\n",
       "      <td>Resort Hotel</td>\n",
       "      <td>0</td>\n",
       "      <td>7</td>\n",
       "      <td>0</td>\n",
       "      <td>1</td>\n",
       "      <td>1</td>\n",
       "      <td>0</td>\n",
       "      <td>0</td>\n",
       "      <td>BB</td>\n",
       "      <td>GBR</td>\n",
       "      <td>Direct</td>\n",
       "      <td>Direct</td>\n",
       "      <td>0</td>\n",
       "      <td>0</td>\n",
       "      <td>No Deposit</td>\n",
       "      <td>0</td>\n",
       "      <td>0</td>\n",
       "      <td>0</td>\n",
       "      <td>Transient</td>\n",
       "      <td>75.0</td>\n",
       "      <td>0</td>\n",
       "      <td>0</td>\n",
       "      <td>0</td>\n",
       "      <td>0</td>\n",
       "    </tr>\n",
       "    <tr>\n",
       "      <th>3</th>\n",
       "      <td>Resort Hotel</td>\n",
       "      <td>0</td>\n",
       "      <td>13</td>\n",
       "      <td>0</td>\n",
       "      <td>1</td>\n",
       "      <td>1</td>\n",
       "      <td>0</td>\n",
       "      <td>0</td>\n",
       "      <td>BB</td>\n",
       "      <td>GBR</td>\n",
       "      <td>Corporate</td>\n",
       "      <td>Corporate</td>\n",
       "      <td>0</td>\n",
       "      <td>0</td>\n",
       "      <td>No Deposit</td>\n",
       "      <td>304</td>\n",
       "      <td>0</td>\n",
       "      <td>0</td>\n",
       "      <td>Transient</td>\n",
       "      <td>75.0</td>\n",
       "      <td>0</td>\n",
       "      <td>0</td>\n",
       "      <td>1</td>\n",
       "      <td>0</td>\n",
       "    </tr>\n",
       "    <tr>\n",
       "      <th>4</th>\n",
       "      <td>Resort Hotel</td>\n",
       "      <td>0</td>\n",
       "      <td>14</td>\n",
       "      <td>0</td>\n",
       "      <td>2</td>\n",
       "      <td>2</td>\n",
       "      <td>0</td>\n",
       "      <td>0</td>\n",
       "      <td>BB</td>\n",
       "      <td>GBR</td>\n",
       "      <td>Online TA</td>\n",
       "      <td>TA/TO</td>\n",
       "      <td>0</td>\n",
       "      <td>0</td>\n",
       "      <td>No Deposit</td>\n",
       "      <td>240</td>\n",
       "      <td>0</td>\n",
       "      <td>0</td>\n",
       "      <td>Transient</td>\n",
       "      <td>98.0</td>\n",
       "      <td>0</td>\n",
       "      <td>1</td>\n",
       "      <td>1</td>\n",
       "      <td>0</td>\n",
       "    </tr>\n",
       "  </tbody>\n",
       "</table>\n",
       "</div>"
      ],
      "text/plain": [
       "          hotel  is_canceled  lead_time  stays_in_weekend_nights  \\\n",
       "0  Resort Hotel            0        342                        0   \n",
       "1  Resort Hotel            0        737                        0   \n",
       "2  Resort Hotel            0          7                        0   \n",
       "3  Resort Hotel            0         13                        0   \n",
       "4  Resort Hotel            0         14                        0   \n",
       "\n",
       "   stays_in_week_nights  adults  children  babies meal country market_segment  \\\n",
       "0                     0       2         0       0   BB     PRT         Direct   \n",
       "1                     0       2         0       0   BB     PRT         Direct   \n",
       "2                     1       1         0       0   BB     GBR         Direct   \n",
       "3                     1       1         0       0   BB     GBR      Corporate   \n",
       "4                     2       2         0       0   BB     GBR      Online TA   \n",
       "\n",
       "  distribution_channel  is_repeated_guest  booking_changes deposit_type  \\\n",
       "0               Direct                  0                3   No Deposit   \n",
       "1               Direct                  0                4   No Deposit   \n",
       "2               Direct                  0                0   No Deposit   \n",
       "3            Corporate                  0                0   No Deposit   \n",
       "4                TA/TO                  0                0   No Deposit   \n",
       "\n",
       "   agent  company  days_in_waiting_list customer_type   adr  \\\n",
       "0      0        0                     0     Transient   0.0   \n",
       "1      0        0                     0     Transient   0.0   \n",
       "2      0        0                     0     Transient  75.0   \n",
       "3    304        0                     0     Transient  75.0   \n",
       "4    240        0                     0     Transient  98.0   \n",
       "\n",
       "   required_car_parking_spaces  total_of_special_requests  Room  net_cancelled  \n",
       "0                            0                          0     1              0  \n",
       "1                            0                          0     1              0  \n",
       "2                            0                          0     0              0  \n",
       "3                            0                          0     1              0  \n",
       "4                            0                          1     1              0  "
      ]
     },
     "execution_count": 16,
     "metadata": {},
     "output_type": "execute_result"
    }
   ],
   "source": [
    "df = df_subset\n",
    "df.head()"
   ]
  },
  {
   "cell_type": "markdown",
   "id": "ece28530",
   "metadata": {},
   "source": [
    "# Model Building (Train &Test 4:1)"
   ]
  },
  {
   "cell_type": "code",
   "execution_count": 17,
   "id": "5ec78320",
   "metadata": {},
   "outputs": [],
   "source": [
    "## Train and Test split on 80 percent and 20 percent.\n",
    "X = df[['hotel','lead_time', 'market_segment', 'deposit_type', 'customer_type','Room','net_cancelled']]\n",
    "y = df['is_canceled']\n",
    "\n",
    "X_train, X_test, y_train, y_test = train_test_split(X, y, stratify = y, test_size = 0.2, random_state = 42)"
   ]
  },
  {
   "cell_type": "code",
   "execution_count": 18,
   "id": "ba57d270",
   "metadata": {},
   "outputs": [
    {
     "data": {
      "text/html": [
       "<div>\n",
       "<style scoped>\n",
       "    .dataframe tbody tr th:only-of-type {\n",
       "        vertical-align: middle;\n",
       "    }\n",
       "\n",
       "    .dataframe tbody tr th {\n",
       "        vertical-align: top;\n",
       "    }\n",
       "\n",
       "    .dataframe thead th {\n",
       "        text-align: right;\n",
       "    }\n",
       "</style>\n",
       "<table border=\"1\" class=\"dataframe\">\n",
       "  <thead>\n",
       "    <tr style=\"text-align: right;\">\n",
       "      <th></th>\n",
       "      <th>hotel</th>\n",
       "      <th>lead_time</th>\n",
       "      <th>market_segment</th>\n",
       "      <th>deposit_type</th>\n",
       "      <th>customer_type</th>\n",
       "      <th>Room</th>\n",
       "      <th>net_cancelled</th>\n",
       "    </tr>\n",
       "  </thead>\n",
       "  <tbody>\n",
       "    <tr>\n",
       "      <th>32983</th>\n",
       "      <td>Resort Hotel</td>\n",
       "      <td>11</td>\n",
       "      <td>Online TA</td>\n",
       "      <td>No Deposit</td>\n",
       "      <td>Transient</td>\n",
       "      <td>1</td>\n",
       "      <td>0</td>\n",
       "    </tr>\n",
       "    <tr>\n",
       "      <th>54151</th>\n",
       "      <td>City Hotel</td>\n",
       "      <td>128</td>\n",
       "      <td>Online TA</td>\n",
       "      <td>No Deposit</td>\n",
       "      <td>Transient</td>\n",
       "      <td>1</td>\n",
       "      <td>0</td>\n",
       "    </tr>\n",
       "    <tr>\n",
       "      <th>76714</th>\n",
       "      <td>City Hotel</td>\n",
       "      <td>7</td>\n",
       "      <td>Corporate</td>\n",
       "      <td>No Deposit</td>\n",
       "      <td>Transient</td>\n",
       "      <td>1</td>\n",
       "      <td>0</td>\n",
       "    </tr>\n",
       "    <tr>\n",
       "      <th>2274</th>\n",
       "      <td>Resort Hotel</td>\n",
       "      <td>77</td>\n",
       "      <td>Direct</td>\n",
       "      <td>No Deposit</td>\n",
       "      <td>Transient</td>\n",
       "      <td>1</td>\n",
       "      <td>0</td>\n",
       "    </tr>\n",
       "    <tr>\n",
       "      <th>15050</th>\n",
       "      <td>Resort Hotel</td>\n",
       "      <td>6</td>\n",
       "      <td>Corporate</td>\n",
       "      <td>No Deposit</td>\n",
       "      <td>Transient</td>\n",
       "      <td>0</td>\n",
       "      <td>0</td>\n",
       "    </tr>\n",
       "  </tbody>\n",
       "</table>\n",
       "</div>"
      ],
      "text/plain": [
       "              hotel  lead_time market_segment deposit_type customer_type  \\\n",
       "32983  Resort Hotel         11      Online TA   No Deposit     Transient   \n",
       "54151    City Hotel        128      Online TA   No Deposit     Transient   \n",
       "76714    City Hotel          7      Corporate   No Deposit     Transient   \n",
       "2274   Resort Hotel         77         Direct   No Deposit     Transient   \n",
       "15050  Resort Hotel          6      Corporate   No Deposit     Transient   \n",
       "\n",
       "       Room  net_cancelled  \n",
       "32983     1              0  \n",
       "54151     1              0  \n",
       "76714     1              0  \n",
       "2274      1              0  \n",
       "15050     0              0  "
      ]
     },
     "execution_count": 18,
     "metadata": {},
     "output_type": "execute_result"
    }
   ],
   "source": [
    "X_train.head()"
   ]
  },
  {
   "cell_type": "code",
   "execution_count": 19,
   "id": "c77a9ac4",
   "metadata": {},
   "outputs": [],
   "source": [
    "cat_columns = ['hotel','market_segment','deposit_type','customer_type']\n",
    "num_columns = ['lead_time','Room','net_cancelled']"
   ]
  },
  {
   "cell_type": "code",
   "execution_count": 20,
   "id": "4fd798c9",
   "metadata": {},
   "outputs": [],
   "source": [
    "categorical_pipeline = Pipeline([\n",
    "    ('encoder', OneHotEncoder())\n",
    "])\n",
    "\n",
    "numerical_pipeline = Pipeline([\n",
    "    ('scaler', RobustScaler())\n",
    "])\n",
    "\n",
    "prepocessor = ColumnTransformer([\n",
    "    ('categorical',categorical_pipeline,cat_columns),\n",
    "    ('numerical', numerical_pipeline,num_columns)\n",
    "])\n",
    "\n",
    "pipe_logreg = Pipeline([\n",
    "    (\"prep\", prepocessor),\n",
    "    (\"algo\", LogisticRegression())\n",
    "])\n",
    "\n",
    "pipe_DT = Pipeline([\n",
    "    (\"prep\", prepocessor),\n",
    "    (\"algo\", DecisionTreeClassifier())\n",
    "])\n",
    "\n",
    "# this is preparring all the the pipeline model to predict all using few algorithm and will hypertune it using\n",
    "# the algorithm that we set up as well"
   ]
  },
  {
   "cell_type": "markdown",
   "id": "5a069aa7",
   "metadata": {},
   "source": [
    "## Logistic Regression"
   ]
  },
  {
   "cell_type": "code",
   "execution_count": 21,
   "id": "144b5969",
   "metadata": {},
   "outputs": [],
   "source": [
    "pipe_logreg.fit(X_train, y_train)\n",
    "y_pred_logreg_base =  pipe_logreg.predict(X_test)\n",
    "y_pred_logreg_base_train = pipe_logreg.predict(X_train)"
   ]
  },
  {
   "cell_type": "code",
   "execution_count": 22,
   "id": "1411ab16",
   "metadata": {},
   "outputs": [
    {
     "name": "stdout",
     "output_type": "stream",
     "text": [
      "Training Accuracy : 0.7758577300562033\n",
      "Testing Accuracy : 0.7756899588960657\n"
     ]
    }
   ],
   "source": [
    "recall_logreg_base = recall_score(y_test, y_pred_logreg_base)\n",
    "acc_logreg_base = accuracy_score(y_test, y_pred_logreg_base)\n",
    "precision_logreg_base = precision_score(y_test, y_pred_logreg_base)\n",
    "f1_logreg_base = f1_score(y_test, y_pred_logreg_base)\n",
    "acc_logreg_base_train = accuracy_score(y_train, y_pred_logreg_base_train)\n",
    "\n",
    "print(f\"Training Accuracy : {acc_logreg_base_train}\")\n",
    "print(f\"Testing Accuracy : {acc_logreg_base}\")\n",
    "\n",
    "# here that the model is overfitting using logistic regression model"
   ]
  },
  {
   "cell_type": "code",
   "execution_count": 23,
   "id": "f26bf911",
   "metadata": {},
   "outputs": [
    {
     "name": "stdout",
     "output_type": "stream",
     "text": [
      "              precision    recall  f1-score   support\n",
      "\n",
      "           0       0.75      0.97      0.85     15002\n",
      "           1       0.91      0.44      0.59      8840\n",
      "\n",
      "    accuracy                           0.78     23842\n",
      "   macro avg       0.83      0.71      0.72     23842\n",
      "weighted avg       0.81      0.78      0.75     23842\n",
      "\n"
     ]
    }
   ],
   "source": [
    "print(classification_report(y_test, y_pred_logreg_base))"
   ]
  },
  {
   "cell_type": "code",
   "execution_count": 24,
   "id": "a70189d7",
   "metadata": {},
   "outputs": [
    {
     "data": {
      "text/html": [
       "<div>\n",
       "<style scoped>\n",
       "    .dataframe tbody tr th:only-of-type {\n",
       "        vertical-align: middle;\n",
       "    }\n",
       "\n",
       "    .dataframe tbody tr th {\n",
       "        vertical-align: top;\n",
       "    }\n",
       "\n",
       "    .dataframe thead th {\n",
       "        text-align: right;\n",
       "    }\n",
       "</style>\n",
       "<table border=\"1\" class=\"dataframe\">\n",
       "  <thead>\n",
       "    <tr style=\"text-align: right;\">\n",
       "      <th></th>\n",
       "      <th>predictive 1</th>\n",
       "      <th>predictive 0</th>\n",
       "    </tr>\n",
       "  </thead>\n",
       "  <tbody>\n",
       "    <tr>\n",
       "      <th>actual 1</th>\n",
       "      <td>3874</td>\n",
       "      <td>4966</td>\n",
       "    </tr>\n",
       "    <tr>\n",
       "      <th>actual 0</th>\n",
       "      <td>382</td>\n",
       "      <td>14620</td>\n",
       "    </tr>\n",
       "  </tbody>\n",
       "</table>\n",
       "</div>"
      ],
      "text/plain": [
       "          predictive 1  predictive 0\n",
       "actual 1          3874          4966\n",
       "actual 0           382         14620"
      ]
     },
     "execution_count": 24,
     "metadata": {},
     "output_type": "execute_result"
    }
   ],
   "source": [
    "cm_logreg_base = confusion_matrix(y_test, y_pred_logreg_base, labels = [1,0])\n",
    "df_logreg_base = pd.DataFrame(data = cm_logreg_base, index = ['actual 1', 'actual 0'], columns = ['predictive 1', 'predictive 0'])\n",
    "df_logreg_base"
   ]
  },
  {
   "cell_type": "code",
   "execution_count": 25,
   "id": "bd37f186",
   "metadata": {},
   "outputs": [
    {
     "data": {
      "text/plain": [
       "<AxesSubplot:>"
      ]
     },
     "execution_count": 25,
     "metadata": {},
     "output_type": "execute_result"
    },
    {
     "data": {
      "image/png": "[encoded data removed]",
      "text/plain": [
       "<Figure size 504x360 with 2 Axes>"
      ]
     },
     "metadata": {
      "needs_background": "light"
     },
     "output_type": "display_data"
    }
   ],
   "source": [
    "plt.figure(figsize = (7, 5))\n",
    "sns.heatmap(df_logreg_base, annot = True)"
   ]
  },
  {
   "cell_type": "markdown",
   "id": "4fa2dd0b",
   "metadata": {},
   "source": [
    "## Decision Tree"
   ]
  },
  {
   "cell_type": "code",
   "execution_count": 26,
   "id": "e371b167",
   "metadata": {},
   "outputs": [],
   "source": [
    "pipe_DT.fit(X_train, y_train)\n",
    "y_pred_DT_base =  pipe_DT.predict(X_test)\n",
    "y_pred_DT_base_train = pipe_DT.predict(X_train)"
   ]
  },
  {
   "cell_type": "code",
   "execution_count": 27,
   "id": "4216cf1c",
   "metadata": {},
   "outputs": [
    {
     "name": "stdout",
     "output_type": "stream",
     "text": [
      "Training Accuracy : 0.8046409697173056\n",
      "Testing Accuracy : 0.782862175991947\n"
     ]
    }
   ],
   "source": [
    "recall_DT_base = recall_score(y_test, y_pred_DT_base)\n",
    "acc_DT_base = accuracy_score(y_test, y_pred_DT_base)\n",
    "precision_DT_base = precision_score(y_test, y_pred_DT_base)\n",
    "f1_DT_base = f1_score(y_test, y_pred_DT_base)\n",
    "acc_DT_base_train = accuracy_score(y_train, y_pred_DT_base_train)\n",
    "\n",
    "print(f\"Training Accuracy : {acc_DT_base_train}\")\n",
    "print(f\"Testing Accuracy : {acc_DT_base}\")\n",
    "\n",
    "# here that the model is overfitting using decision tree model"
   ]
  },
  {
   "cell_type": "code",
   "execution_count": 28,
   "id": "44665719",
   "metadata": {},
   "outputs": [
    {
     "name": "stdout",
     "output_type": "stream",
     "text": [
      "              precision    recall  f1-score   support\n",
      "\n",
      "           0       0.78      0.91      0.84     15002\n",
      "           1       0.79      0.56      0.66      8840\n",
      "\n",
      "    accuracy                           0.78     23842\n",
      "   macro avg       0.79      0.74      0.75     23842\n",
      "weighted avg       0.78      0.78      0.77     23842\n",
      "\n"
     ]
    }
   ],
   "source": [
    "print(classification_report(y_test, y_pred_DT_base))"
   ]
  },
  {
   "cell_type": "code",
   "execution_count": 29,
   "id": "15bb7435",
   "metadata": {},
   "outputs": [
    {
     "data": {
      "text/html": [
       "<div>\n",
       "<style scoped>\n",
       "    .dataframe tbody tr th:only-of-type {\n",
       "        vertical-align: middle;\n",
       "    }\n",
       "\n",
       "    .dataframe tbody tr th {\n",
       "        vertical-align: top;\n",
       "    }\n",
       "\n",
       "    .dataframe thead th {\n",
       "        text-align: right;\n",
       "    }\n",
       "</style>\n",
       "<table border=\"1\" class=\"dataframe\">\n",
       "  <thead>\n",
       "    <tr style=\"text-align: right;\">\n",
       "      <th></th>\n",
       "      <th>predictive 1</th>\n",
       "      <th>predictive 0</th>\n",
       "    </tr>\n",
       "  </thead>\n",
       "  <tbody>\n",
       "    <tr>\n",
       "      <th>actual 1</th>\n",
       "      <td>4941</td>\n",
       "      <td>3899</td>\n",
       "    </tr>\n",
       "    <tr>\n",
       "      <th>actual 0</th>\n",
       "      <td>1278</td>\n",
       "      <td>13724</td>\n",
       "    </tr>\n",
       "  </tbody>\n",
       "</table>\n",
       "</div>"
      ],
      "text/plain": [
       "          predictive 1  predictive 0\n",
       "actual 1          4941          3899\n",
       "actual 0          1278         13724"
      ]
     },
     "execution_count": 29,
     "metadata": {},
     "output_type": "execute_result"
    }
   ],
   "source": [
    "cm_DT_base = confusion_matrix(y_test, y_pred_DT_base, labels = [1,0])\n",
    "df_DT_base = pd.DataFrame(data = cm_DT_base, index = ['actual 1', 'actual 0'], columns = ['predictive 1', 'predictive 0'])\n",
    "df_DT_base"
   ]
  },
  {
   "cell_type": "code",
   "execution_count": 30,
   "id": "b0aba296",
   "metadata": {},
   "outputs": [
    {
     "data": {
      "text/plain": [
       "<AxesSubplot:>"
      ]
     },
     "execution_count": 30,
     "metadata": {},
     "output_type": "execute_result"
    },
    {
     "data": {
      "image/png": "[encoded data removed]",
      "text/plain": [
       "<Figure size 504x360 with 2 Axes>"
      ]
     },
     "metadata": {
      "needs_background": "light"
     },
     "output_type": "display_data"
    }
   ],
   "source": [
    "plt.figure(figsize = (7, 5))\n",
    "sns.heatmap(df_DT_base, annot = True)"
   ]
  },
  {
   "cell_type": "markdown",
   "id": "83e69c1e",
   "metadata": {},
   "source": [
    "## Evaluation Comparing Each Models Evaluation Matrix"
   ]
  },
  {
   "cell_type": "code",
   "execution_count": 31,
   "id": "6c7e8e0e",
   "metadata": {},
   "outputs": [],
   "source": [
    "from IPython.core.display import display, HTML\n",
    "\n",
    "def display_side_by_side(dfs:list, captions:list):\n",
    "    \"\"\"Display tables side by side to save vertical space\n",
    "    Input:\n",
    "        dfs: list of pandas.DataFrame\n",
    "        captions: list of table captions\n",
    "    \"\"\"\n",
    "    output = \"\"\n",
    "    combined = dict(zip(captions, dfs))\n",
    "    for caption, df in combined.items():\n",
    "        output += df.style.set_table_attributes(\"style='display:inline'\").set_caption(caption)._repr_html_()\n",
    "        output += \"\\xa0\\xa0\\xa0\"\n",
    "    display(HTML(output))"
   ]
  },
  {
   "cell_type": "code",
   "execution_count": 32,
   "id": "455e7b43",
   "metadata": {
    "scrolled": true
   },
   "outputs": [
    {
     "data": {
      "text/html": [
       "<style  type=\"text/css\" >\n",
       "</style><table id=\"T_71aec_\" style='display:inline'><caption>Evaluation Matrix</caption><thead>    <tr>        <th class=\"blank level0\" ></th>        <th class=\"col_heading level0 col0\" >Logistic Regression</th>        <th class=\"col_heading level0 col1\" >Decision Tree</th>    </tr></thead><tbody>\n",
       "                <tr>\n",
       "                        <th id=\"T_71aec_level0_row0\" class=\"row_heading level0 row0\" >Accucary</th>\n",
       "                        <td id=\"T_71aec_row0_col0\" class=\"data row0 col0\" >0.775690</td>\n",
       "                        <td id=\"T_71aec_row0_col1\" class=\"data row0 col1\" >0.782862</td>\n",
       "            </tr>\n",
       "            <tr>\n",
       "                        <th id=\"T_71aec_level0_row1\" class=\"row_heading level0 row1\" >Recall</th>\n",
       "                        <td id=\"T_71aec_row1_col0\" class=\"data row1 col0\" >0.438235</td>\n",
       "                        <td id=\"T_71aec_row1_col1\" class=\"data row1 col1\" >0.558937</td>\n",
       "            </tr>\n",
       "            <tr>\n",
       "                        <th id=\"T_71aec_level0_row2\" class=\"row_heading level0 row2\" >Precision</th>\n",
       "                        <td id=\"T_71aec_row2_col0\" class=\"data row2 col0\" >0.910244</td>\n",
       "                        <td id=\"T_71aec_row2_col1\" class=\"data row2 col1\" >0.794501</td>\n",
       "            </tr>\n",
       "            <tr>\n",
       "                        <th id=\"T_71aec_level0_row3\" class=\"row_heading level0 row3\" >F1 Score</th>\n",
       "                        <td id=\"T_71aec_row3_col0\" class=\"data row3 col0\" >0.591631</td>\n",
       "                        <td id=\"T_71aec_row3_col1\" class=\"data row3 col1\" >0.656219</td>\n",
       "            </tr>\n",
       "    </tbody></table>   <style  type=\"text/css\" >\n",
       "</style><table id=\"T_77468_\" style='display:inline'><caption>Accuracy Train & Test</caption><thead>    <tr>        <th class=\"blank level0\" ></th>        <th class=\"col_heading level0 col0\" >Training</th>        <th class=\"col_heading level0 col1\" >Testing</th>    </tr></thead><tbody>\n",
       "                <tr>\n",
       "                        <th id=\"T_77468_level0_row0\" class=\"row_heading level0 row0\" >Logreg</th>\n",
       "                        <td id=\"T_77468_row0_col0\" class=\"data row0 col0\" >0.775858</td>\n",
       "                        <td id=\"T_77468_row0_col1\" class=\"data row0 col1\" >0.775690</td>\n",
       "            </tr>\n",
       "            <tr>\n",
       "                        <th id=\"T_77468_level0_row1\" class=\"row_heading level0 row1\" >Decision Tree</th>\n",
       "                        <td id=\"T_77468_row1_col0\" class=\"data row1 col0\" >0.804641</td>\n",
       "                        <td id=\"T_77468_row1_col1\" class=\"data row1 col1\" >0.782862</td>\n",
       "            </tr>\n",
       "    </tbody></table>   "
      ],
      "text/plain": [
       "<IPython.core.display.HTML object>"
      ]
     },
     "metadata": {},
     "output_type": "display_data"
    }
   ],
   "source": [
    "evaluation_matrix_base = {\n",
    "    'Logistic Regression': [acc_logreg_base, recall_logreg_base, precision_logreg_base, f1_logreg_base],\n",
    "    'Decision Tree':[acc_DT_base, recall_DT_base, precision_DT_base, f1_DT_base],\n",
    "}\n",
    "\n",
    "eva_base = pd.DataFrame(data = evaluation_matrix_base, index = ['Accucary', 'Recall', 'Precision', 'F1 Score'])\n",
    "\n",
    "evaluation_matrix_base_training = {\n",
    "    \"Training\" : [acc_logreg_base_train, acc_DT_base_train],\n",
    "    \"Testing\": [acc_logreg_base, acc_DT_base]\n",
    "}\n",
    "    \n",
    "\n",
    "eva_base_train = pd.DataFrame(data = evaluation_matrix_base_training, index = ['Logreg', 'Decision Tree'])\n",
    "\n",
    "display_side_by_side([eva_base, eva_base_train], ['Evaluation Matrix', 'Accuracy Train & Test'])"
   ]
  },
  {
   "cell_type": "markdown",
   "id": "4aef7767",
   "metadata": {},
   "source": [
    "# Hyperparameter Tuning"
   ]
  },
  {
   "cell_type": "markdown",
   "id": "d8be50b6",
   "metadata": {},
   "source": [
    "## Logistic Regression"
   ]
  },
  {
   "cell_type": "code",
   "execution_count": 33,
   "id": "3d4c3d1a",
   "metadata": {},
   "outputs": [
    {
     "data": {
      "text/plain": [
       "{'memory': None,\n",
       " 'steps': [('prep',\n",
       "   ColumnTransformer(transformers=[('categorical',\n",
       "                                    Pipeline(steps=[('encoder', OneHotEncoder())]),\n",
       "                                    ['hotel', 'market_segment', 'deposit_type',\n",
       "                                     'customer_type']),\n",
       "                                   ('numerical',\n",
       "                                    Pipeline(steps=[('scaler', RobustScaler())]),\n",
       "                                    ['lead_time', 'Room', 'net_cancelled'])])),\n",
       "  ('algo', LogisticRegression())],\n",
       " 'verbose': False,\n",
       " 'prep': ColumnTransformer(transformers=[('categorical',\n",
       "                                  Pipeline(steps=[('encoder', OneHotEncoder())]),\n",
       "                                  ['hotel', 'market_segment', 'deposit_type',\n",
       "                                   'customer_type']),\n",
       "                                 ('numerical',\n",
       "                                  Pipeline(steps=[('scaler', RobustScaler())]),\n",
       "                                  ['lead_time', 'Room', 'net_cancelled'])]),\n",
       " 'algo': LogisticRegression(),\n",
       " 'prep__n_jobs': None,\n",
       " 'prep__remainder': 'drop',\n",
       " 'prep__sparse_threshold': 0.3,\n",
       " 'prep__transformer_weights': None,\n",
       " 'prep__transformers': [('categorical',\n",
       "   Pipeline(steps=[('encoder', OneHotEncoder())]),\n",
       "   ['hotel', 'market_segment', 'deposit_type', 'customer_type']),\n",
       "  ('numerical',\n",
       "   Pipeline(steps=[('scaler', RobustScaler())]),\n",
       "   ['lead_time', 'Room', 'net_cancelled'])],\n",
       " 'prep__verbose': False,\n",
       " 'prep__categorical': Pipeline(steps=[('encoder', OneHotEncoder())]),\n",
       " 'prep__numerical': Pipeline(steps=[('scaler', RobustScaler())]),\n",
       " 'prep__categorical__memory': None,\n",
       " 'prep__categorical__steps': [('encoder', OneHotEncoder())],\n",
       " 'prep__categorical__verbose': False,\n",
       " 'prep__categorical__encoder': OneHotEncoder(),\n",
       " 'prep__categorical__encoder__categories': 'auto',\n",
       " 'prep__categorical__encoder__drop': None,\n",
       " 'prep__categorical__encoder__dtype': numpy.float64,\n",
       " 'prep__categorical__encoder__handle_unknown': 'error',\n",
       " 'prep__categorical__encoder__sparse': True,\n",
       " 'prep__numerical__memory': None,\n",
       " 'prep__numerical__steps': [('scaler', RobustScaler())],\n",
       " 'prep__numerical__verbose': False,\n",
       " 'prep__numerical__scaler': RobustScaler(),\n",
       " 'prep__numerical__scaler__copy': True,\n",
       " 'prep__numerical__scaler__quantile_range': (25.0, 75.0),\n",
       " 'prep__numerical__scaler__unit_variance': False,\n",
       " 'prep__numerical__scaler__with_centering': True,\n",
       " 'prep__numerical__scaler__with_scaling': True,\n",
       " 'algo__C': 1.0,\n",
       " 'algo__class_weight': None,\n",
       " 'algo__dual': False,\n",
       " 'algo__fit_intercept': True,\n",
       " 'algo__intercept_scaling': 1,\n",
       " 'algo__l1_ratio': None,\n",
       " 'algo__max_iter': 100,\n",
       " 'algo__multi_class': 'auto',\n",
       " 'algo__n_jobs': None,\n",
       " 'algo__penalty': 'l2',\n",
       " 'algo__random_state': None,\n",
       " 'algo__solver': 'lbfgs',\n",
       " 'algo__tol': 0.0001,\n",
       " 'algo__verbose': 0,\n",
       " 'algo__warm_start': False}"
      ]
     },
     "execution_count": 33,
     "metadata": {},
     "output_type": "execute_result"
    }
   ],
   "source": [
    "pipe_logreg.get_params()"
   ]
  },
  {
   "cell_type": "code",
   "execution_count": 34,
   "id": "98b91203",
   "metadata": {},
   "outputs": [
    {
     "name": "stdout",
     "output_type": "stream",
     "text": [
      "Fitting 3 folds for each of 30 candidates, totalling 90 fits\n"
     ]
    },
    {
     "data": {
      "text/plain": [
       "GridSearchCV(cv=3,\n",
       "             estimator=Pipeline(steps=[('prep',\n",
       "                                        ColumnTransformer(transformers=[('categorical',\n",
       "                                                                         Pipeline(steps=[('encoder',\n",
       "                                                                                          OneHotEncoder())]),\n",
       "                                                                         ['hotel',\n",
       "                                                                          'market_segment',\n",
       "                                                                          'deposit_type',\n",
       "                                                                          'customer_type']),\n",
       "                                                                        ('numerical',\n",
       "                                                                         Pipeline(steps=[('scaler',\n",
       "                                                                                          RobustScaler())]),\n",
       "                                                                         ['lead_time',\n",
       "                                                                          'Room',\n",
       "                                                                          'net_cancelled'])])),\n",
       "                                       ('algo', LogisticRegression())]),\n",
       "             n_jobs=-1,\n",
       "             param_grid={'algo__C': [1.0, 2.0, 3.0, 4.0, 5.0],\n",
       "                         'algo__class_weight': [None, 'balanced'],\n",
       "                         'algo__penalty': ['l2', 'l1', 'elasticnet']},\n",
       "             scoring='accuracy', verbose=1)"
      ]
     },
     "execution_count": 34,
     "metadata": {},
     "output_type": "execute_result"
    }
   ],
   "source": [
    "param_logreg = {\n",
    "    'algo__penalty':['l2', 'l1', 'elasticnet'],\n",
    "    'algo__C':[1.0, 2.0, 3.0, 4.0,5.0],\n",
    "    'algo__class_weight':[None, 'balanced']\n",
    "}\n",
    "\n",
    "model_logreg = GridSearchCV(estimator=pipe_logreg, param_grid=param_logreg, cv = 3, n_jobs = -1, verbose = 1, scoring='accuracy')\n",
    "model_logreg.fit(X_train, y_train)"
   ]
  },
  {
   "cell_type": "code",
   "execution_count": 35,
   "id": "b2af3bbc",
   "metadata": {
    "scrolled": true
   },
   "outputs": [],
   "source": [
    "logreg_tuned = model_logreg.best_estimator_\n",
    "logreg_tuned_train = model_logreg.score(X_train, y_train)\n",
    "y_pred_logreg_tuned = logreg_tuned.predict(X_test) "
   ]
  },
  {
   "cell_type": "code",
   "execution_count": 36,
   "id": "8cf3c313",
   "metadata": {},
   "outputs": [
    {
     "name": "stdout",
     "output_type": "stream",
     "text": [
      "Training Accuracy : 0.7758577300562033\n",
      "Testing Accuracy : 0.7756899588960657\n"
     ]
    }
   ],
   "source": [
    "recall_logreg_tuned = recall_score(y_test, y_pred_logreg_tuned)\n",
    "acc_logreg_tuned = accuracy_score(y_test, y_pred_logreg_tuned)\n",
    "precision_logreg_tuned = precision_score(y_test, y_pred_logreg_tuned)\n",
    "f1_logreg_tuned = f1_score(y_test, y_pred_logreg_tuned)\n",
    "acc_logreg_tuned_train = logreg_tuned_train\n",
    "\n",
    "print(f\"Training Accuracy : {acc_logreg_tuned_train}\")\n",
    "print(f\"Testing Accuracy : {acc_logreg_tuned}\")"
   ]
  },
  {
   "cell_type": "code",
   "execution_count": 37,
   "id": "96b2ea3a",
   "metadata": {},
   "outputs": [
    {
     "name": "stdout",
     "output_type": "stream",
     "text": [
      "              precision    recall  f1-score   support\n",
      "\n",
      "           0       0.75      0.97      0.85     15002\n",
      "           1       0.91      0.44      0.59      8840\n",
      "\n",
      "    accuracy                           0.78     23842\n",
      "   macro avg       0.83      0.71      0.72     23842\n",
      "weighted avg       0.81      0.78      0.75     23842\n",
      "\n"
     ]
    }
   ],
   "source": [
    "print(classification_report(y_test, y_pred_logreg_tuned))"
   ]
  },
  {
   "cell_type": "code",
   "execution_count": 38,
   "id": "6d2fe74c",
   "metadata": {},
   "outputs": [
    {
     "data": {
      "text/html": [
       "<style  type=\"text/css\" >\n",
       "</style><table id=\"T_8bda9_\" style='display:inline'><caption>Base Model</caption><thead>    <tr>        <th class=\"blank level0\" ></th>        <th class=\"col_heading level0 col0\" >predictive 1</th>        <th class=\"col_heading level0 col1\" >predictive 0</th>    </tr></thead><tbody>\n",
       "                <tr>\n",
       "                        <th id=\"T_8bda9_level0_row0\" class=\"row_heading level0 row0\" >actual 1</th>\n",
       "                        <td id=\"T_8bda9_row0_col0\" class=\"data row0 col0\" >3874</td>\n",
       "                        <td id=\"T_8bda9_row0_col1\" class=\"data row0 col1\" >4966</td>\n",
       "            </tr>\n",
       "            <tr>\n",
       "                        <th id=\"T_8bda9_level0_row1\" class=\"row_heading level0 row1\" >actual 0</th>\n",
       "                        <td id=\"T_8bda9_row1_col0\" class=\"data row1 col0\" >382</td>\n",
       "                        <td id=\"T_8bda9_row1_col1\" class=\"data row1 col1\" >14620</td>\n",
       "            </tr>\n",
       "    </tbody></table>   <style  type=\"text/css\" >\n",
       "</style><table id=\"T_339d5_\" style='display:inline'><caption>Tuned Model</caption><thead>    <tr>        <th class=\"blank level0\" ></th>        <th class=\"col_heading level0 col0\" >predictive 1</th>        <th class=\"col_heading level0 col1\" >predictive 0</th>    </tr></thead><tbody>\n",
       "                <tr>\n",
       "                        <th id=\"T_339d5_level0_row0\" class=\"row_heading level0 row0\" >actual 1</th>\n",
       "                        <td id=\"T_339d5_row0_col0\" class=\"data row0 col0\" >3874</td>\n",
       "                        <td id=\"T_339d5_row0_col1\" class=\"data row0 col1\" >4966</td>\n",
       "            </tr>\n",
       "            <tr>\n",
       "                        <th id=\"T_339d5_level0_row1\" class=\"row_heading level0 row1\" >actual 0</th>\n",
       "                        <td id=\"T_339d5_row1_col0\" class=\"data row1 col0\" >382</td>\n",
       "                        <td id=\"T_339d5_row1_col1\" class=\"data row1 col1\" >14620</td>\n",
       "            </tr>\n",
       "    </tbody></table>   "
      ],
      "text/plain": [
       "<IPython.core.display.HTML object>"
      ]
     },
     "metadata": {},
     "output_type": "display_data"
    }
   ],
   "source": [
    "cm_logreg_tuned = confusion_matrix(y_test, y_pred_logreg_tuned, labels = [1,0])\n",
    "df_logreg_tuned = pd.DataFrame(data = cm_logreg_tuned, index = ['actual 1', 'actual 0'], columns = ['predictive 1', 'predictive 0'])\n",
    "\n",
    "\n",
    "display_side_by_side([df_logreg_base, df_logreg_tuned], ['Base Model', 'Tuned Model'])\n",
    "\n",
    "# we see that comparing both of the model we see that base model has a slightly more True Positive \n",
    "# while tuned model has slightly more True Negative and and slightly less true  true positive"
   ]
  },
  {
   "cell_type": "code",
   "execution_count": 39,
   "id": "bad5563c",
   "metadata": {},
   "outputs": [
    {
     "data": {
      "text/plain": [
       "Text(0.5, 1.0, 'Tuned Model')"
      ]
     },
     "execution_count": 39,
     "metadata": {},
     "output_type": "execute_result"
    },
    {
     "data": {
      "image/png": "[encoded data removed]",
      "text/plain": [
       "<Figure size 720x324 with 4 Axes>"
      ]
     },
     "metadata": {
      "needs_background": "light"
     },
     "output_type": "display_data"
    }
   ],
   "source": [
    "plt.figure(figsize = (10, 4.5))\n",
    "\n",
    "plt.subplot(1,2,1)\n",
    "sns.heatmap(df_logreg_base, annot = True)\n",
    "plt.title('Base Model')\n",
    "\n",
    "plt.subplot(1,3,3)\n",
    "sns.heatmap(df_logreg_tuned, annot = True)\n",
    "plt.title('Tuned Model')"
   ]
  },
  {
   "cell_type": "markdown",
   "id": "8ddeb6d6",
   "metadata": {},
   "source": [
    "# Decision Tree"
   ]
  },
  {
   "cell_type": "code",
   "execution_count": 40,
   "id": "061ec2ba",
   "metadata": {},
   "outputs": [
    {
     "data": {
      "text/plain": [
       "{'memory': None,\n",
       " 'steps': [('prep',\n",
       "   ColumnTransformer(transformers=[('categorical',\n",
       "                                    Pipeline(steps=[('encoder', OneHotEncoder())]),\n",
       "                                    ['hotel', 'market_segment', 'deposit_type',\n",
       "                                     'customer_type']),\n",
       "                                   ('numerical',\n",
       "                                    Pipeline(steps=[('scaler', RobustScaler())]),\n",
       "                                    ['lead_time', 'Room', 'net_cancelled'])])),\n",
       "  ('algo', DecisionTreeClassifier())],\n",
       " 'verbose': False,\n",
       " 'prep': ColumnTransformer(transformers=[('categorical',\n",
       "                                  Pipeline(steps=[('encoder', OneHotEncoder())]),\n",
       "                                  ['hotel', 'market_segment', 'deposit_type',\n",
       "                                   'customer_type']),\n",
       "                                 ('numerical',\n",
       "                                  Pipeline(steps=[('scaler', RobustScaler())]),\n",
       "                                  ['lead_time', 'Room', 'net_cancelled'])]),\n",
       " 'algo': DecisionTreeClassifier(),\n",
       " 'prep__n_jobs': None,\n",
       " 'prep__remainder': 'drop',\n",
       " 'prep__sparse_threshold': 0.3,\n",
       " 'prep__transformer_weights': None,\n",
       " 'prep__transformers': [('categorical',\n",
       "   Pipeline(steps=[('encoder', OneHotEncoder())]),\n",
       "   ['hotel', 'market_segment', 'deposit_type', 'customer_type']),\n",
       "  ('numerical',\n",
       "   Pipeline(steps=[('scaler', RobustScaler())]),\n",
       "   ['lead_time', 'Room', 'net_cancelled'])],\n",
       " 'prep__verbose': False,\n",
       " 'prep__categorical': Pipeline(steps=[('encoder', OneHotEncoder())]),\n",
       " 'prep__numerical': Pipeline(steps=[('scaler', RobustScaler())]),\n",
       " 'prep__categorical__memory': None,\n",
       " 'prep__categorical__steps': [('encoder', OneHotEncoder())],\n",
       " 'prep__categorical__verbose': False,\n",
       " 'prep__categorical__encoder': OneHotEncoder(),\n",
       " 'prep__categorical__encoder__categories': 'auto',\n",
       " 'prep__categorical__encoder__drop': None,\n",
       " 'prep__categorical__encoder__dtype': numpy.float64,\n",
       " 'prep__categorical__encoder__handle_unknown': 'error',\n",
       " 'prep__categorical__encoder__sparse': True,\n",
       " 'prep__numerical__memory': None,\n",
       " 'prep__numerical__steps': [('scaler', RobustScaler())],\n",
       " 'prep__numerical__verbose': False,\n",
       " 'prep__numerical__scaler': RobustScaler(),\n",
       " 'prep__numerical__scaler__copy': True,\n",
       " 'prep__numerical__scaler__quantile_range': (25.0, 75.0),\n",
       " 'prep__numerical__scaler__unit_variance': False,\n",
       " 'prep__numerical__scaler__with_centering': True,\n",
       " 'prep__numerical__scaler__with_scaling': True,\n",
       " 'algo__ccp_alpha': 0.0,\n",
       " 'algo__class_weight': None,\n",
       " 'algo__criterion': 'gini',\n",
       " 'algo__max_depth': None,\n",
       " 'algo__max_features': None,\n",
       " 'algo__max_leaf_nodes': None,\n",
       " 'algo__min_impurity_decrease': 0.0,\n",
       " 'algo__min_impurity_split': None,\n",
       " 'algo__min_samples_leaf': 1,\n",
       " 'algo__min_samples_split': 2,\n",
       " 'algo__min_weight_fraction_leaf': 0.0,\n",
       " 'algo__random_state': None,\n",
       " 'algo__splitter': 'best'}"
      ]
     },
     "execution_count": 40,
     "metadata": {},
     "output_type": "execute_result"
    }
   ],
   "source": [
    "pipe_DT.get_params()"
   ]
  },
  {
   "cell_type": "code",
   "execution_count": 41,
   "id": "384e580c",
   "metadata": {},
   "outputs": [
    {
     "name": "stdout",
     "output_type": "stream",
     "text": [
      "Fitting 3 folds for each of 350 candidates, totalling 1050 fits\n"
     ]
    },
    {
     "data": {
      "text/plain": [
       "GridSearchCV(cv=3,\n",
       "             estimator=Pipeline(steps=[('prep',\n",
       "                                        ColumnTransformer(transformers=[('categorical',\n",
       "                                                                         Pipeline(steps=[('encoder',\n",
       "                                                                                          OneHotEncoder())]),\n",
       "                                                                         ['hotel',\n",
       "                                                                          'market_segment',\n",
       "                                                                          'deposit_type',\n",
       "                                                                          'customer_type']),\n",
       "                                                                        ('numerical',\n",
       "                                                                         Pipeline(steps=[('scaler',\n",
       "                                                                                          RobustScaler())]),\n",
       "                                                                         ['lead_time',\n",
       "                                                                          'Room',\n",
       "                                                                          'net_cancelled'])])),\n",
       "                                       ('algo', DecisionTreeClassifier())]),\n",
       "             n_jobs=-1,\n",
       "             param_grid={'algo__max_depth': [None, 1, 2, 4, 8, 10, 12, 14, 18,\n",
       "                                             20],\n",
       "                         'algo__min_samples_leaf': [1, 2, 4, 5, 8],\n",
       "                         'algo__min_samples_split': [2, 1, 3, 4, 6, 8, 10]},\n",
       "             scoring='accuracy', verbose=1)"
      ]
     },
     "execution_count": 41,
     "metadata": {},
     "output_type": "execute_result"
    }
   ],
   "source": [
    "param_DT = {\n",
    "    'algo__min_samples_split': [2,1,3,4,6,8,10,],\n",
    "    'algo__max_depth': [None,1,2,4,8,10,12,14,18, 20],\n",
    "    'algo__min_samples_leaf':[1,2,4,5,8]\n",
    "}\n",
    "\n",
    "model_DT = GridSearchCV(estimator=pipe_DT, param_grid=param_DT, cv = 3, n_jobs = -1, verbose = 1, scoring='accuracy')\n",
    "model_DT.fit(X_train, y_train)"
   ]
  },
  {
   "cell_type": "code",
   "execution_count": 42,
   "id": "4bc8e225",
   "metadata": {},
   "outputs": [],
   "source": [
    "DT_tuned = model_DT.best_estimator_\n",
    "DT_tuned_train = model_DT.score(X_train, y_train)\n",
    "y_pred_DT_tuned = DT_tuned.predict(X_test) "
   ]
  },
  {
   "cell_type": "code",
   "execution_count": 43,
   "id": "4e84f5fa",
   "metadata": {},
   "outputs": [
    {
     "name": "stdout",
     "output_type": "stream",
     "text": [
      "Training Accuracy : 0.8046409697173056\n",
      "Testing Accuracy : 0.782862175991947\n"
     ]
    }
   ],
   "source": [
    "recall_DT_tuned = recall_score(y_test, y_pred_DT_tuned)\n",
    "acc_DT_tuned = accuracy_score(y_test, y_pred_DT_tuned)\n",
    "precision_DT_tuned = precision_score(y_test, y_pred_DT_tuned)\n",
    "f1_DT_tuned = f1_score(y_test, y_pred_DT_tuned)\n",
    "acc_DT_tuned_train = DT_tuned_train\n",
    "\n",
    "print(f\"Training Accuracy : {acc_DT_tuned_train}\")\n",
    "print(f\"Testing Accuracy : {acc_DT_tuned}\")"
   ]
  },
  {
   "cell_type": "code",
   "execution_count": 44,
   "id": "203b6488",
   "metadata": {},
   "outputs": [
    {
     "name": "stdout",
     "output_type": "stream",
     "text": [
      "              precision    recall  f1-score   support\n",
      "\n",
      "           0       0.78      0.91      0.84     15002\n",
      "           1       0.79      0.56      0.66      8840\n",
      "\n",
      "    accuracy                           0.78     23842\n",
      "   macro avg       0.79      0.74      0.75     23842\n",
      "weighted avg       0.78      0.78      0.77     23842\n",
      "\n"
     ]
    }
   ],
   "source": [
    "print(classification_report(y_test, y_pred_DT_tuned))"
   ]
  },
  {
   "cell_type": "code",
   "execution_count": 45,
   "id": "b56f8f37",
   "metadata": {},
   "outputs": [
    {
     "data": {
      "text/html": [
       "<style  type=\"text/css\" >\n",
       "</style><table id=\"T_8813f_\" style='display:inline'><caption>Base Model</caption><thead>    <tr>        <th class=\"blank level0\" ></th>        <th class=\"col_heading level0 col0\" >predictive 1</th>        <th class=\"col_heading level0 col1\" >predictive 0</th>    </tr></thead><tbody>\n",
       "                <tr>\n",
       "                        <th id=\"T_8813f_level0_row0\" class=\"row_heading level0 row0\" >actual 1</th>\n",
       "                        <td id=\"T_8813f_row0_col0\" class=\"data row0 col0\" >4941</td>\n",
       "                        <td id=\"T_8813f_row0_col1\" class=\"data row0 col1\" >3899</td>\n",
       "            </tr>\n",
       "            <tr>\n",
       "                        <th id=\"T_8813f_level0_row1\" class=\"row_heading level0 row1\" >actual 0</th>\n",
       "                        <td id=\"T_8813f_row1_col0\" class=\"data row1 col0\" >1278</td>\n",
       "                        <td id=\"T_8813f_row1_col1\" class=\"data row1 col1\" >13724</td>\n",
       "            </tr>\n",
       "    </tbody></table>   <style  type=\"text/css\" >\n",
       "</style><table id=\"T_17857_\" style='display:inline'><caption>Tuned Model</caption><thead>    <tr>        <th class=\"blank level0\" ></th>        <th class=\"col_heading level0 col0\" >predictive 1</th>        <th class=\"col_heading level0 col1\" >predictive 0</th>    </tr></thead><tbody>\n",
       "                <tr>\n",
       "                        <th id=\"T_17857_level0_row0\" class=\"row_heading level0 row0\" >actual 1</th>\n",
       "                        <td id=\"T_17857_row0_col0\" class=\"data row0 col0\" >4942</td>\n",
       "                        <td id=\"T_17857_row0_col1\" class=\"data row0 col1\" >3898</td>\n",
       "            </tr>\n",
       "            <tr>\n",
       "                        <th id=\"T_17857_level0_row1\" class=\"row_heading level0 row1\" >actual 0</th>\n",
       "                        <td id=\"T_17857_row1_col0\" class=\"data row1 col0\" >1279</td>\n",
       "                        <td id=\"T_17857_row1_col1\" class=\"data row1 col1\" >13723</td>\n",
       "            </tr>\n",
       "    </tbody></table>   "
      ],
      "text/plain": [
       "<IPython.core.display.HTML object>"
      ]
     },
     "metadata": {},
     "output_type": "display_data"
    }
   ],
   "source": [
    "cm_DT_tuned = confusion_matrix(y_test, y_pred_DT_tuned, labels = [1,0])\n",
    "df_DT_tuned = pd.DataFrame(data = cm_DT_tuned, index = ['actual 1', 'actual 0'], columns = ['predictive 1', 'predictive 0'])\n",
    "\n",
    "\n",
    "display_side_by_side([df_DT_base, df_DT_tuned], ['Base Model', 'Tuned Model'])"
   ]
  },
  {
   "cell_type": "code",
   "execution_count": 46,
   "id": "b2dec42b",
   "metadata": {},
   "outputs": [
    {
     "data": {
      "text/plain": [
       "Text(0.5, 1.0, 'Tuned Model')"
      ]
     },
     "execution_count": 46,
     "metadata": {},
     "output_type": "execute_result"
    },
    {
     "data": {
      "image/png": "[encoded data removed]",
      "text/plain": [
       "<Figure size 720x324 with 4 Axes>"
      ]
     },
     "metadata": {
      "needs_background": "light"
     },
     "output_type": "display_data"
    }
   ],
   "source": [
    "plt.figure(figsize = (10, 4.5))\n",
    "\n",
    "plt.subplot(1,2,1)\n",
    "sns.heatmap(df_DT_base, annot = True)\n",
    "plt.title('Base Model')\n",
    "\n",
    "plt.subplot(1,3,3)\n",
    "sns.heatmap(df_DT_tuned, annot = True)\n",
    "plt.title('Tuned Model')"
   ]
  },
  {
   "cell_type": "code",
   "execution_count": 47,
   "id": "82fc303d",
   "metadata": {},
   "outputs": [],
   "source": [
    "evaluation_matrix_tuned = {\n",
    "    'Logistic Regression': [acc_logreg_tuned, recall_logreg_tuned, precision_logreg_tuned, f1_logreg_tuned],\n",
    "    'Decision Tree':[acc_DT_tuned, recall_DT_tuned, precision_DT_tuned, f1_DT_tuned],\n",
    "}\n",
    "\n",
    "eva_tuned = pd.DataFrame(data = evaluation_matrix_tuned, index = ['Accucary', 'Recall', 'Precision', 'F1 Score'])\n",
    "\n",
    "evaluation_matrix_tuned_training = {\n",
    "    \"training\" : [acc_logreg_tuned_train,acc_DT_tuned_train],\n",
    "    \"testing\": [acc_logreg_tuned,acc_DT_tuned]\n",
    "}\n",
    "\n",
    "eva_tuned_train = pd.DataFrame(data = evaluation_matrix_tuned_training, index = ['Logreg','Decision Tree'])"
   ]
  },
  {
   "cell_type": "markdown",
   "id": "a26030f5",
   "metadata": {},
   "source": [
    "## Comparing Each Evaluation Matrix"
   ]
  },
  {
   "cell_type": "markdown",
   "id": "6bfb19ef",
   "metadata": {},
   "source": [
    "#### Base Model"
   ]
  },
  {
   "cell_type": "code",
   "execution_count": 48,
   "id": "1de42337",
   "metadata": {},
   "outputs": [
    {
     "data": {
      "text/html": [
       "<style  type=\"text/css\" >\n",
       "</style><table id=\"T_ecd6f_\" style='display:inline'><caption>Evaluation Matrix</caption><thead>    <tr>        <th class=\"blank level0\" ></th>        <th class=\"col_heading level0 col0\" >Logistic Regression</th>        <th class=\"col_heading level0 col1\" >Decision Tree</th>    </tr></thead><tbody>\n",
       "                <tr>\n",
       "                        <th id=\"T_ecd6f_level0_row0\" class=\"row_heading level0 row0\" >Accucary</th>\n",
       "                        <td id=\"T_ecd6f_row0_col0\" class=\"data row0 col0\" >0.775690</td>\n",
       "                        <td id=\"T_ecd6f_row0_col1\" class=\"data row0 col1\" >0.782862</td>\n",
       "            </tr>\n",
       "            <tr>\n",
       "                        <th id=\"T_ecd6f_level0_row1\" class=\"row_heading level0 row1\" >Recall</th>\n",
       "                        <td id=\"T_ecd6f_row1_col0\" class=\"data row1 col0\" >0.438235</td>\n",
       "                        <td id=\"T_ecd6f_row1_col1\" class=\"data row1 col1\" >0.558937</td>\n",
       "            </tr>\n",
       "            <tr>\n",
       "                        <th id=\"T_ecd6f_level0_row2\" class=\"row_heading level0 row2\" >Precision</th>\n",
       "                        <td id=\"T_ecd6f_row2_col0\" class=\"data row2 col0\" >0.910244</td>\n",
       "                        <td id=\"T_ecd6f_row2_col1\" class=\"data row2 col1\" >0.794501</td>\n",
       "            </tr>\n",
       "            <tr>\n",
       "                        <th id=\"T_ecd6f_level0_row3\" class=\"row_heading level0 row3\" >F1 Score</th>\n",
       "                        <td id=\"T_ecd6f_row3_col0\" class=\"data row3 col0\" >0.591631</td>\n",
       "                        <td id=\"T_ecd6f_row3_col1\" class=\"data row3 col1\" >0.656219</td>\n",
       "            </tr>\n",
       "    </tbody></table>   <style  type=\"text/css\" >\n",
       "</style><table id=\"T_e29a4_\" style='display:inline'><caption>Accuracy Train & Test</caption><thead>    <tr>        <th class=\"blank level0\" ></th>        <th class=\"col_heading level0 col0\" >Training</th>        <th class=\"col_heading level0 col1\" >Testing</th>    </tr></thead><tbody>\n",
       "                <tr>\n",
       "                        <th id=\"T_e29a4_level0_row0\" class=\"row_heading level0 row0\" >Logreg</th>\n",
       "                        <td id=\"T_e29a4_row0_col0\" class=\"data row0 col0\" >0.775858</td>\n",
       "                        <td id=\"T_e29a4_row0_col1\" class=\"data row0 col1\" >0.775690</td>\n",
       "            </tr>\n",
       "            <tr>\n",
       "                        <th id=\"T_e29a4_level0_row1\" class=\"row_heading level0 row1\" >Decision Tree</th>\n",
       "                        <td id=\"T_e29a4_row1_col0\" class=\"data row1 col0\" >0.804641</td>\n",
       "                        <td id=\"T_e29a4_row1_col1\" class=\"data row1 col1\" >0.782862</td>\n",
       "            </tr>\n",
       "    </tbody></table>   "
      ],
      "text/plain": [
       "<IPython.core.display.HTML object>"
      ]
     },
     "metadata": {},
     "output_type": "display_data"
    }
   ],
   "source": [
    "display_side_by_side([eva_base, eva_base_train], ['Evaluation Matrix', 'Accuracy Train & Test'])"
   ]
  },
  {
   "cell_type": "markdown",
   "id": "b848a34b",
   "metadata": {},
   "source": [
    "#### Tuned Model"
   ]
  },
  {
   "cell_type": "code",
   "execution_count": 49,
   "id": "64c131ae",
   "metadata": {},
   "outputs": [
    {
     "data": {
      "text/html": [
       "<style  type=\"text/css\" >\n",
       "</style><table id=\"T_085c8_\" style='display:inline'><caption>Evaluation Matrix</caption><thead>    <tr>        <th class=\"blank level0\" ></th>        <th class=\"col_heading level0 col0\" >Logistic Regression</th>        <th class=\"col_heading level0 col1\" >Decision Tree</th>    </tr></thead><tbody>\n",
       "                <tr>\n",
       "                        <th id=\"T_085c8_level0_row0\" class=\"row_heading level0 row0\" >Accucary</th>\n",
       "                        <td id=\"T_085c8_row0_col0\" class=\"data row0 col0\" >0.775690</td>\n",
       "                        <td id=\"T_085c8_row0_col1\" class=\"data row0 col1\" >0.782862</td>\n",
       "            </tr>\n",
       "            <tr>\n",
       "                        <th id=\"T_085c8_level0_row1\" class=\"row_heading level0 row1\" >Recall</th>\n",
       "                        <td id=\"T_085c8_row1_col0\" class=\"data row1 col0\" >0.438235</td>\n",
       "                        <td id=\"T_085c8_row1_col1\" class=\"data row1 col1\" >0.559050</td>\n",
       "            </tr>\n",
       "            <tr>\n",
       "                        <th id=\"T_085c8_level0_row2\" class=\"row_heading level0 row2\" >Precision</th>\n",
       "                        <td id=\"T_085c8_row2_col0\" class=\"data row2 col0\" >0.910244</td>\n",
       "                        <td id=\"T_085c8_row2_col1\" class=\"data row2 col1\" >0.794406</td>\n",
       "            </tr>\n",
       "            <tr>\n",
       "                        <th id=\"T_085c8_level0_row3\" class=\"row_heading level0 row3\" >F1 Score</th>\n",
       "                        <td id=\"T_085c8_row3_col0\" class=\"data row3 col0\" >0.591631</td>\n",
       "                        <td id=\"T_085c8_row3_col1\" class=\"data row3 col1\" >0.656265</td>\n",
       "            </tr>\n",
       "    </tbody></table>   <style  type=\"text/css\" >\n",
       "</style><table id=\"T_551cc_\" style='display:inline'><caption>Accuracy Train & Test</caption><thead>    <tr>        <th class=\"blank level0\" ></th>        <th class=\"col_heading level0 col0\" >training</th>        <th class=\"col_heading level0 col1\" >testing</th>    </tr></thead><tbody>\n",
       "                <tr>\n",
       "                        <th id=\"T_551cc_level0_row0\" class=\"row_heading level0 row0\" >Logreg</th>\n",
       "                        <td id=\"T_551cc_row0_col0\" class=\"data row0 col0\" >0.775858</td>\n",
       "                        <td id=\"T_551cc_row0_col1\" class=\"data row0 col1\" >0.775690</td>\n",
       "            </tr>\n",
       "            <tr>\n",
       "                        <th id=\"T_551cc_level0_row1\" class=\"row_heading level0 row1\" >Decision Tree</th>\n",
       "                        <td id=\"T_551cc_row1_col0\" class=\"data row1 col0\" >0.804641</td>\n",
       "                        <td id=\"T_551cc_row1_col1\" class=\"data row1 col1\" >0.782862</td>\n",
       "            </tr>\n",
       "    </tbody></table>   "
      ],
      "text/plain": [
       "<IPython.core.display.HTML object>"
      ]
     },
     "metadata": {},
     "output_type": "display_data"
    }
   ],
   "source": [
    "display_side_by_side([eva_tuned, eva_tuned_train], ['Evaluation Matrix', 'Accuracy Train & Test'])"
   ]
  }
 ],
 "metadata": {
  "kernelspec": {
   "display_name": "Python 3",
   "language": "python",
   "name": "python3"
  },
  "language_info": {
   "codemirror_mode": {
    "name": "ipython",
    "version": 3
   },
   "file_extension": ".py",
   "mimetype": "text/x-python",
   "name": "python",
   "nbconvert_exporter": "python",
   "pygments_lexer": "ipython3",
   "version": "3.8.8"
  }
 },
 "nbformat": 4,
 "nbformat_minor": 5
}
